{
  "cells": [
    {
      "cell_type": "markdown",
      "metadata": {
        "id": "view-in-github",
        "colab_type": "text"
      },
      "source": [
        "<a href=\"https://colab.research.google.com/github/jaeofbum/-ViT-/blob/main/KD(ResNet50_and_DeiT.ipynb\" target=\"_parent\"><img src=\"https://colab.research.google.com/assets/colab-badge.svg\" alt=\"Open In Colab\"/></a>"
      ]
    },
    {
      "cell_type": "code",
      "execution_count": null,
      "metadata": {
        "colab": {
          "base_uri": "https://localhost:8080/"
        },
        "collapsed": true,
        "id": "3daa773d-7785-4f0a-83d6-4f3471169d59",
        "outputId": "c369d145-6916-414f-a40c-37f13cf906b3"
      },
      "outputs": [
        {
          "output_type": "stream",
          "name": "stdout",
          "text": [
            "Looking in indexes: https://pypi.org/simple, https://us-python.pkg.dev/colab-wheels/public/simple/\n",
            "Collecting tensorflow-addons\n",
            "  Downloading tensorflow_addons-0.18.0-cp37-cp37m-manylinux_2_17_x86_64.manylinux2014_x86_64.whl (1.1 MB)\n",
            "\u001b[K     |████████████████████████████████| 1.1 MB 29.7 MB/s \n",
            "\u001b[?25hRequirement already satisfied: packaging in /usr/local/lib/python3.7/dist-packages (from tensorflow-addons) (21.3)\n",
            "Requirement already satisfied: typeguard>=2.7 in /usr/local/lib/python3.7/dist-packages (from tensorflow-addons) (2.7.1)\n",
            "Requirement already satisfied: pyparsing!=3.0.5,>=2.0.2 in /usr/local/lib/python3.7/dist-packages (from packaging->tensorflow-addons) (3.0.9)\n",
            "Installing collected packages: tensorflow-addons\n",
            "Successfully installed tensorflow-addons-0.18.0\n"
          ]
        }
      ],
      "source": [
        "pip install tensorflow-addons"
      ],
      "id": "3daa773d-7785-4f0a-83d6-4f3471169d59"
    },
    {
      "cell_type": "code",
      "execution_count": null,
      "metadata": {
        "id": "c379f7ff-66de-4bce-b5f0-fd3d6033987c"
      },
      "outputs": [],
      "source": [
        "#자료 타입을 리스트로 선언\n",
        "from typing import List\n",
        "#텐서플로우 불러오기\n",
        "import tensorflow as tf\n",
        "#텐서플로우로도 연산을 할수없는것을 구현해야되기때문에 아돈스 API 불러오기\n",
        "import tensorflow_addons as tfa\n",
        "#케라스 모델(ResNet50)불러오기위해 케라스 불러오기\n",
        "from tensorflow import keras as keras\n",
        "#모델을 만들기 위해 불러오기\n",
        "from tensorflow.keras.models import Sequential\n",
        "#레이어 만들기 위해 불러오기\n",
        "from tensorflow.keras import layers\n",
        "from tensorflow.keras.layers import Activation, Dense\n",
        "tf.random.set_seed(42)\n",
        "import h5py\n",
        "import cv2"
      ],
      "id": "c379f7ff-66de-4bce-b5f0-fd3d6033987c"
    },
    {
      "cell_type": "code",
      "execution_count": null,
      "metadata": {
        "colab": {
          "base_uri": "https://localhost:8080/"
        },
        "id": "cQAgYRra9E2H",
        "outputId": "d2809456-f232-40dc-e447-f68287af0589"
      },
      "outputs": [
        {
          "output_type": "stream",
          "name": "stdout",
          "text": [
            "Mounted at /content/drive\n"
          ]
        }
      ],
      "source": [
        "from google.colab import drive\n",
        "drive.mount('/content/drive')"
      ],
      "id": "cQAgYRra9E2H"
    },
    {
      "cell_type": "code",
      "execution_count": null,
      "metadata": {
        "id": "d7a3423c-929f-4af1-8032-6e9bca1fa54c"
      },
      "outputs": [],
      "source": [
        "# Model\n",
        "MODEL_TYPE = \"deit_distilled_tiny_patch16_224\"\n",
        "RESOLUTION = 224\n",
        "PATCH_SIZE = 16\n",
        "NUM_PATCHES = (RESOLUTION // PATCH_SIZE) ** 2\n",
        "LAYER_NORM_EPS = 1e-6\n",
        "PROJECTION_DIM = 192\n",
        "NUM_HEADS = 3\n",
        "NUM_LAYERS = 12\n",
        "MLP_UNITS = [\n",
        "    PROJECTION_DIM * 4,\n",
        "    PROJECTION_DIM,\n",
        "]\n",
        "DROPOUT_RATE = 0.0\n",
        "DROP_PATH_RATE = 0.1\n",
        "\n",
        "# Training\n",
        "NUM_EPOCHS = 100\n",
        "BASE_LR = 0.0005\n",
        "WEIGHT_DECAY = 0.0001\n",
        "\n",
        "# Data\n",
        "BATCH_SIZE = 16\n",
        "AUTO = tf.data.AUTOTUNE\n",
        "NUM_CLASSES = 2"
      ],
      "id": "d7a3423c-929f-4af1-8032-6e9bca1fa54c"
    },
    {
      "cell_type": "code",
      "execution_count": null,
      "metadata": {
        "id": "47465eb3-3fc3-4a42-86fc-00c630348df9"
      },
      "outputs": [],
      "source": [
        "class StochasticDepth(layers.Layer):\n",
        "    def __init__(self, drop_prop, **kwargs):\n",
        "        super().__init__(**kwargs)\n",
        "        self.drop_prob = drop_prop\n",
        "\n",
        "    def call(self, x, training=True):\n",
        "        if training:\n",
        "            keep_prob = 1 - self.drop_prob\n",
        "            shape = (tf.shape(x)[0],) + (1,) * (len(tf.shape(x)) - 1)\n",
        "            random_tensor = keep_prob + tf.random.uniform(shape, 0, 1)\n",
        "            random_tensor = tf.floor(random_tensor)\n",
        "            return (x / keep_prob) * random_tensor\n",
        "        return x"
      ],
      "id": "47465eb3-3fc3-4a42-86fc-00c630348df9"
    },
    {
      "cell_type": "code",
      "execution_count": null,
      "metadata": {
        "id": "e5c5aa10-2c2e-4eaf-93ae-56db4c2b7aaf"
      },
      "outputs": [],
      "source": [
        "def mlp(x, dropout_rate: float, hidden_units: List):\n",
        "    \"\"\"FFN for a Transformer block.\"\"\"\n",
        "    # Iterate over the hidden units and\n",
        "    # add Dense => Dropout.\n",
        "    for (idx, units) in enumerate(hidden_units):\n",
        "        x = layers.Dense(\n",
        "            units,\n",
        "            activation=tf.nn.gelu if idx == 0 else None,\n",
        "        )(x)\n",
        "        x = layers.Dropout(dropout_rate)(x)\n",
        "    return x\n",
        "\n",
        "\n",
        "def transformer(drop_prob: float, name: str) -> keras.Model:\n",
        "    \"\"\"Transformer block with pre-norm.\"\"\"\n",
        "    num_patches = NUM_PATCHES + 2 if \"distilled\" in MODEL_TYPE else NUM_PATCHES + 1\n",
        "    encoded_patches = layers.Input((num_patches, PROJECTION_DIM))\n",
        "\n",
        "    # Layer normalization 1.\n",
        "    x1 = layers.LayerNormalization(epsilon=LAYER_NORM_EPS)(encoded_patches)\n",
        "\n",
        "    # Multi Head Self Attention layer 1.\n",
        "    attention_output = layers.MultiHeadAttention(\n",
        "        num_heads=NUM_HEADS,\n",
        "        key_dim=PROJECTION_DIM,\n",
        "        dropout=DROPOUT_RATE,\n",
        "    )(x1, x1)\n",
        "    attention_output = (\n",
        "        StochasticDepth(drop_prob)(attention_output) if drop_prob else attention_output\n",
        "    )\n",
        "\n",
        "    # Skip connection 1.\n",
        "    x2 = layers.Add()([attention_output, encoded_patches])\n",
        "\n",
        "    # Layer normalization 2.\n",
        "    x3 = layers.LayerNormalization(epsilon=LAYER_NORM_EPS)(x2)\n",
        "\n",
        "    # MLP layer 1.\n",
        "    x4 = mlp(x3, hidden_units=MLP_UNITS, dropout_rate=DROPOUT_RATE)\n",
        "    x4 = StochasticDepth(drop_prob)(x4) if drop_prob else x4\n",
        "\n",
        "    # Skip connection 2.\n",
        "    outputs = layers.Add()([x2, x4])\n",
        "\n",
        "    return keras.Model(encoded_patches, outputs, name=name)"
      ],
      "id": "e5c5aa10-2c2e-4eaf-93ae-56db4c2b7aaf"
    },
    {
      "cell_type": "code",
      "execution_count": null,
      "metadata": {
        "id": "aa7b5439-73ab-4035-b018-a428cc1248e8"
      },
      "outputs": [],
      "source": [
        "class ViTClassifier(keras.Model):\n",
        "    \"\"\"Vision Transformer base class.\"\"\"\n",
        "\n",
        "    def __init__(self, **kwargs):\n",
        "        super().__init__(**kwargs)\n",
        "\n",
        "        # Patchify + linear projection + reshaping.\n",
        "        self.projection = keras.Sequential(\n",
        "            [\n",
        "                layers.Conv2D(\n",
        "                    filters=PROJECTION_DIM,\n",
        "                    kernel_size=(PATCH_SIZE, PATCH_SIZE),\n",
        "                    strides=(PATCH_SIZE, PATCH_SIZE),\n",
        "                    padding=\"VALID\",\n",
        "                    name=\"conv_projection\",\n",
        "                ),\n",
        "                layers.Reshape(\n",
        "                    target_shape=(NUM_PATCHES, PROJECTION_DIM),\n",
        "                    name=\"flatten_projection\",\n",
        "                ),\n",
        "            ],\n",
        "            name=\"projection\",\n",
        "        )\n",
        "\n",
        "        # Positional embedding.\n",
        "        init_shape = (\n",
        "            1,\n",
        "            NUM_PATCHES + 1,\n",
        "            PROJECTION_DIM,\n",
        "        )\n",
        "        self.positional_embedding = tf.Variable(\n",
        "            tf.zeros(init_shape), name=\"pos_embedding\"\n",
        "        )\n",
        "\n",
        "        # Transformer blocks.\n",
        "        dpr = [x for x in tf.linspace(0.0, DROP_PATH_RATE, NUM_LAYERS)]\n",
        "        self.transformer_blocks = [\n",
        "            transformer(drop_prob=dpr[i], name=f\"transformer_block_{i}\")\n",
        "            for i in range(NUM_LAYERS)\n",
        "        ]\n",
        "\n",
        "        # CLS token.\n",
        "        initial_value = tf.zeros((1, 1, PROJECTION_DIM))\n",
        "        self.cls_token = tf.Variable(\n",
        "            initial_value=initial_value, trainable=True, name=\"cls\"\n",
        "        )\n",
        "\n",
        "        # Other layers.\n",
        "        self.dropout = layers.Dropout(DROPOUT_RATE)\n",
        "        self.layer_norm = layers.LayerNormalization(epsilon=LAYER_NORM_EPS)\n",
        "        self.head = layers.Dense(\n",
        "            NUM_CLASSES,\n",
        "            name=\"classification_head\",\n",
        "        )\n",
        "\n",
        "    def call(self, inputs, training=True):\n",
        "        n = tf.shape(inputs)[0]\n",
        "\n",
        "        # Create patches and project the patches.\n",
        "        projected_patches = self.projection(inputs)\n",
        "\n",
        "        # Append class token if needed.\n",
        "        cls_token = tf.tile(self.cls_token, (n, 1, 1))\n",
        "        cls_token = tf.cast(cls_token, projected_patches.dtype)\n",
        "        projected_patches = tf.concat([cls_token, projected_patches], axis=1)\n",
        "\n",
        "        # Add positional embeddings to the projected patches.\n",
        "        encoded_patches = (\n",
        "            self.positional_embedding + projected_patches\n",
        "        )  # (B, number_patches, projection_dim)\n",
        "        encoded_patches = self.dropout(encoded_patches)\n",
        "\n",
        "        # Iterate over the number of layers and stack up blocks of\n",
        "        # Transformer.\n",
        "        for transformer_module in self.transformer_blocks:\n",
        "            # Add a Transformer block.\n",
        "            encoded_patches = transformer_module(encoded_patches)\n",
        "\n",
        "        # Final layer normalization.\n",
        "        representation = self.layer_norm(encoded_patches)\n",
        "\n",
        "        # Pool representation.\n",
        "        encoded_patches = representation[:, 0]\n",
        "\n",
        "        # Classification head.\n",
        "        output = self.head(encoded_patches)\n",
        "        return output"
      ],
      "id": "aa7b5439-73ab-4035-b018-a428cc1248e8"
    },
    {
      "cell_type": "code",
      "execution_count": null,
      "metadata": {
        "id": "994cf5a3-470b-4aca-9934-c3e7a030a536"
      },
      "outputs": [],
      "source": [
        "class ViTDistilled(ViTClassifier):\n",
        "    def __init__(self, regular_training=False, **kwargs):\n",
        "        super().__init__(**kwargs)\n",
        "        self.num_tokens = 2\n",
        "        self.regular_training = regular_training\n",
        "\n",
        "        # CLS and distillation tokens, positional embedding.\n",
        "        init_value = tf.zeros((1, 1, PROJECTION_DIM))\n",
        "        self.dist_token = tf.Variable(init_value, name=\"dist_token\")\n",
        "        self.positional_embedding = tf.Variable(\n",
        "            tf.zeros(\n",
        "                (\n",
        "                    1,\n",
        "                    NUM_PATCHES + self.num_tokens,\n",
        "                    PROJECTION_DIM,\n",
        "                )\n",
        "            ),\n",
        "            name=\"pos_embedding\",\n",
        "        )\n",
        "\n",
        "        # Head layers.\n",
        "        self.head = layers.Dense(\n",
        "            NUM_CLASSES,\n",
        "            name=\"classification_head\",\n",
        "        )\n",
        "        self.head_dist = layers.Dense(\n",
        "            NUM_CLASSES,\n",
        "            name=\"distillation_head\",\n",
        "        )\n",
        "\n",
        "    def call(self, inputs, training=True):\n",
        "        n = tf.shape(inputs)[0]\n",
        "\n",
        "        # Create patches and project the patches.\n",
        "        projected_patches = self.projection(inputs)\n",
        "\n",
        "        # Append the tokens.\n",
        "        cls_token = tf.tile(self.cls_token, (n, 1, 1))\n",
        "        dist_token = tf.tile(self.dist_token, (n, 1, 1))\n",
        "        cls_token = tf.cast(cls_token, projected_patches.dtype)\n",
        "        dist_token = tf.cast(dist_token, projected_patches.dtype)\n",
        "        projected_patches = tf.concat(\n",
        "            [cls_token, dist_token, projected_patches], axis=1\n",
        "        )\n",
        "\n",
        "        # Add positional embeddings to the projected patches.\n",
        "        encoded_patches = (\n",
        "            self.positional_embedding + projected_patches\n",
        "        )  # (B, number_patches, projection_dim)\n",
        "        encoded_patches = self.dropout(encoded_patches)\n",
        "\n",
        "        # Iterate over the number of layers and stack up blocks of\n",
        "        # Transformer.\n",
        "        for transformer_module in self.transformer_blocks:\n",
        "            # Add a Transformer block.\n",
        "            encoded_patches = transformer_module(encoded_patches)\n",
        "\n",
        "        # Final layer normalization.\n",
        "        representation = self.layer_norm(encoded_patches)\n",
        "\n",
        "        # Classification heads.\n",
        "        x, x_dist = (\n",
        "            self.head(representation[:, 0]),\n",
        "            self.head_dist(representation[:, 1]),\n",
        "        )\n",
        "\n",
        "        if not training or self.regular_training:\n",
        "            # During standard train / finetune, inference average the classifier\n",
        "            # predictions.\n",
        "            return (x + x_dist) / 2\n",
        "\n",
        "        elif training:\n",
        "            # Only return separate classification predictions when training in distilled\n",
        "            # mode.\n",
        "            return x, x_dist"
      ],
      "id": "994cf5a3-470b-4aca-9934-c3e7a030a536"
    },
    {
      "cell_type": "code",
      "execution_count": null,
      "metadata": {
        "colab": {
          "base_uri": "https://localhost:8080/"
        },
        "id": "A0XyCdqzTi2z",
        "outputId": "d2e0d47c-702e-4ef2-f240-0f610d2a17b4"
      },
      "outputs": [
        {
          "output_type": "stream",
          "name": "stdout",
          "text": [
            "(2, 2)\n"
          ]
        }
      ],
      "source": [
        "#제대로 나오는지 더미 넣어서 확인\n",
        "deit_tiny_distilled = ViTDistilled()\n",
        "\n",
        "dummy_inputs = tf.ones((2, 224, 224, 3))\n",
        "outputs = deit_tiny_distilled(dummy_inputs, training=False)\n",
        "print(outputs.shape)"
      ],
      "id": "A0XyCdqzTi2z"
    },
    {
      "cell_type": "code",
      "execution_count": null,
      "metadata": {
        "id": "v-jfuQL_0GXL"
      },
      "outputs": [],
      "source": [
        "deit_tiny_distilled.load_weights(\"/content/drive/MyDrive/Colab Notebooks/deit1.h5\")"
      ],
      "id": "v-jfuQL_0GXL"
    },
    {
      "cell_type": "code",
      "execution_count": null,
      "metadata": {
        "id": "21ce5588-b3fd-425d-ab80-60cfadd2b9c5"
      },
      "outputs": [],
      "source": [
        "class DeiT(keras.Model):\n",
        "    # Reference:\n",
        "    # https://keras.io/examples/vision/knowledge_distillation/\n",
        "    def __init__(self, student, teacher, **kwargs):\n",
        "        super().__init__(**kwargs)\n",
        "        self.student = student\n",
        "        self.teacher = teacher\n",
        "\n",
        "        self.student_loss_tracker = keras.metrics.Mean(name=\"student_loss\")\n",
        "        self.dist_loss_tracker = keras.metrics.Mean(name=\"distillation_loss\")\n",
        "\n",
        "    @property\n",
        "    def metrics(self):\n",
        "        metrics = super().metrics\n",
        "        metrics.append(self.student_loss_tracker)\n",
        "        metrics.append(self.dist_loss_tracker)\n",
        "        return metrics\n",
        "\n",
        "    def compile(\n",
        "        self,\n",
        "        optimizer,\n",
        "        metrics,\n",
        "        student_loss_fn,\n",
        "        distillation_loss_fn,\n",
        "    ):\n",
        "        super().compile(optimizer=optimizer, metrics=metrics)\n",
        "        self.student_loss_fn = student_loss_fn\n",
        "        self.distillation_loss_fn = distillation_loss_fn\n",
        "\n",
        "    def train_step(self, data):\n",
        "        # Unpack data.\n",
        "        x, y = data\n",
        "\n",
        "        # Forward pass of teacher\n",
        "        teacher_predictions = tf.nn.softmax(self.teacher(x, training=False), -1)\n",
        "        teacher_predictions = tf.argmax(teacher_predictions, -1)\n",
        "\n",
        "        with tf.GradientTape() as tape:\n",
        "            # Forward pass of student.\n",
        "            cls_predictions, dist_predictions = self.student(x / 255.0, training=True)\n",
        "\n",
        "            # Compute losses.\n",
        "            student_loss = self.student_loss_fn(y, cls_predictions)\n",
        "            distillation_loss = self.distillation_loss_fn(\n",
        "                teacher_predictions, dist_predictions\n",
        "            )\n",
        "            loss = (student_loss + distillation_loss) / 2\n",
        "\n",
        "        # Compute gradients.\n",
        "        trainable_vars = self.student.trainable_variables\n",
        "        gradients = tape.gradient(loss, trainable_vars)\n",
        "\n",
        "        # Update weights.\n",
        "        self.optimizer.apply_gradients(zip(gradients, trainable_vars))\n",
        "\n",
        "        # Update the metrics configured in `compile()`.\n",
        "        student_predictions = (cls_predictions + dist_predictions) / 2\n",
        "        self.compiled_metrics.update_state(y, student_predictions)\n",
        "        self.dist_loss_tracker.update_state(distillation_loss)\n",
        "        self.student_loss_tracker.update_state(student_loss)\n",
        "\n",
        "        # Return a dict of performance.\n",
        "        results = {m.name: m.result() for m in self.metrics}\n",
        "        return results\n",
        "\n",
        "    def test_step(self, data):\n",
        "        # Unpack the data.\n",
        "        x, y = data\n",
        "\n",
        "        # Compute predictions.\n",
        "        y_prediction = self.student(x / 255.0, training=False)\n",
        "\n",
        "        # Calculate the loss.\n",
        "        student_loss = self.student_loss_fn(y, y_prediction)\n",
        "\n",
        "        # Update the metrics.\n",
        "        self.compiled_metrics.update_state(y, y_prediction)\n",
        "        self.student_loss_tracker.update_state(student_loss)\n",
        "\n",
        "        # Return a dict of performance.\n",
        "        results = {m.name: m.result() for m in self.metrics}\n",
        "        return results\n",
        "\n",
        "    def call(self, inputs):\n",
        "        return self.student(inputs / 255.0, training=False)"
      ],
      "id": "21ce5588-b3fd-425d-ab80-60cfadd2b9c5"
    },
    {
      "cell_type": "code",
      "execution_count": null,
      "metadata": {
        "colab": {
          "base_uri": "https://localhost:8080/"
        },
        "id": "bc3ae2e1-b88b-42b1-9dd6-ab1317f27cbd",
        "outputId": "a5bb12f3-79e1-4f97-87e1-d2ec66cecc5c"
      },
      "outputs": [
        {
          "output_type": "stream",
          "name": "stdout",
          "text": [
            "Found 394 images belonging to 2 classes.\n",
            "Found 132 images belonging to 2 classes.\n",
            "Found 129 images belonging to 2 classes.\n"
          ]
        }
      ],
      "source": [
        "#학습할 포트홀 이미지 이미지 제너레이터로 학습,확인,테스트로 나누기\n",
        "from tensorflow.keras.preprocessing.image import ImageDataGenerator\n",
        "\n",
        "# Train ImageDataGenerator\n",
        "train_gen = ImageDataGenerator(rescale=1/255)\n",
        "# Test ImageDataGenerator\n",
        "test_gen = ImageDataGenerator(rescale=1/255.)\n",
        "# valid ImageDataGenerator\n",
        "valid_gen = ImageDataGenerator(rescale=1/255.)\n",
        "\n",
        "train_flow_gen = train_gen.flow_from_directory(directory='/content/drive/MyDrive/Colab Notebooks/classification/train',\n",
        "                                            target_size=(224, 224),  \n",
        "                                            class_mode='categorical',\n",
        "                                            batch_size=16,\n",
        "                                            shuffle=True)\n",
        "valid_flow_gen = valid_gen.flow_from_directory(directory='/content/drive/MyDrive/Colab Notebooks/classification/val',\n",
        "                                            target_size=(224, 224), \n",
        "                                            class_mode='categorical',\n",
        "                                            batch_size=16,\n",
        "                                            shuffle=False)\n",
        "test_flow_gen = test_gen.flow_from_directory(directory='/content/drive/MyDrive/Colab Notebooks/classification/test',\n",
        "                                            target_size=(224, 224), \n",
        "                                            class_mode='categorical',\n",
        "                                            batch_size=16,\n",
        "                                            shuffle=False)"
      ],
      "id": "bc3ae2e1-b88b-42b1-9dd6-ab1317f27cbd"
    },
    {
      "cell_type": "code",
      "execution_count": null,
      "metadata": {
        "id": "UzlQ--GYFJEF"
      },
      "outputs": [],
      "source": [
        "#모델 컴파일 하기\n",
        "callback=tf.keras.callbacks.EarlyStopping(\n",
        "    monitor=\"val_student_loss\",\n",
        "    patience=2,\n",
        "    mode=\"auto\",\n",
        "    restore_best_weights=True,\n",
        ")\n",
        "#ResNet50모델 사전학습한거 불러오기(교사모델)\n",
        "resnet50 = tf.keras.models.load_model('/content/drive/MyDrive/Colab Notebooks/resnet50 yjb.h5', custom_objects=None, compile=True, options=None)\n",
        "    # deit_tiny_distilled = ViTDistilled()\n",
        "deit_tiny = ViTDistilled()\n",
        "deit_distiller = DeiT(student=deit_tiny, teacher=resnet50)\n",
        "lr_scaled = (BASE_LR / 512) * BATCH_SIZE\n",
        "deit_distiller.compile(\n",
        "         optimizer=tfa.optimizers.AdamW(weight_decay=WEIGHT_DECAY, learning_rate=lr_scaled),\n",
        "         metrics=[\"accuracy\"],\n",
        "         student_loss_fn=keras.losses.CategoricalCrossentropy(\n",
        "             from_logits=True, label_smoothing=0.1),\n",
        "         distillation_loss_fn=keras.losses.SparseCategoricalCrossentropy(from_logits=True))"
      ],
      "id": "UzlQ--GYFJEF"
    },
    {
      "cell_type": "code",
      "execution_count": null,
      "metadata": {
        "colab": {
          "base_uri": "https://localhost:8080/"
        },
        "id": "YY3k_jh3o-PL",
        "outputId": "d5304848-8c1d-48df-f737-2169d6cd0e3a"
      },
      "outputs": [
        {
          "name": "stdout",
          "output_type": "stream",
          "text": [
            "Model: \"vi_t_distilled_4\"\n",
            "_________________________________________________________________\n",
            " Layer (type)                Output Shape              Param #   \n",
            "=================================================================\n",
            " projection (Sequential)     (None, 196, 192)          147648    \n",
            "                                                                 \n",
            " transformer_block_0 (Functi  (None, 198, 192)         740928    \n",
            " onal)                                                           \n",
            "                                                                 \n",
            " transformer_block_1 (Functi  (None, 198, 192)         740928    \n",
            " onal)                                                           \n",
            "                                                                 \n",
            " transformer_block_2 (Functi  (None, 198, 192)         740928    \n",
            " onal)                                                           \n",
            "                                                                 \n",
            " transformer_block_3 (Functi  (None, 198, 192)         740928    \n",
            " onal)                                                           \n",
            "                                                                 \n",
            " transformer_block_4 (Functi  (None, 198, 192)         740928    \n",
            " onal)                                                           \n",
            "                                                                 \n",
            " transformer_block_5 (Functi  (None, 198, 192)         740928    \n",
            " onal)                                                           \n",
            "                                                                 \n",
            " transformer_block_6 (Functi  (None, 198, 192)         740928    \n",
            " onal)                                                           \n",
            "                                                                 \n",
            " transformer_block_7 (Functi  (None, 198, 192)         740928    \n",
            " onal)                                                           \n",
            "                                                                 \n",
            " transformer_block_8 (Functi  (None, 198, 192)         740928    \n",
            " onal)                                                           \n",
            "                                                                 \n",
            " transformer_block_9 (Functi  (None, 198, 192)         740928    \n",
            " onal)                                                           \n",
            "                                                                 \n",
            " transformer_block_10 (Funct  (None, 198, 192)         740928    \n",
            " ional)                                                          \n",
            "                                                                 \n",
            " transformer_block_11 (Funct  (None, 198, 192)         740928    \n",
            " ional)                                                          \n",
            "                                                                 \n",
            " dropout_124 (Dropout)       multiple                  0         \n",
            "                                                                 \n",
            " layer_normalization_124 (La  multiple                 384       \n",
            " yerNormalization)                                               \n",
            "                                                                 \n",
            " classification_head (Dense)  multiple                 386       \n",
            "                                                                 \n",
            " distillation_head (Dense)   multiple                  386       \n",
            "                                                                 \n",
            "=================================================================\n",
            "Total params: 9,078,340\n",
            "Trainable params: 9,078,340\n",
            "Non-trainable params: 0\n",
            "_________________________________________________________________\n"
          ]
        }
      ],
      "source": [
        "#DeiT모델 구조 보기\n",
        "deit_distiller.student.summary()"
      ],
      "id": "YY3k_jh3o-PL"
    },
    {
      "cell_type": "code",
      "execution_count": null,
      "metadata": {
        "colab": {
          "base_uri": "https://localhost:8080/"
        },
        "id": "0wyPG_H4DaZ3",
        "outputId": "f85d51db-b2c4-4593-b4dc-a06c1e5e0f00"
      },
      "outputs": [
        {
          "name": "stdout",
          "output_type": "stream",
          "text": [
            "Epoch 1/5\n",
            "25/25 [==============================] - 14s 565ms/step - accuracy: 0.9848 - student_loss: 0.2345 - distillation_loss: 0.0673 - val_accuracy: 0.8636 - val_student_loss: 0.4953 - val_distillation_loss: 0.0000e+00\n",
            "Epoch 2/5\n",
            "25/25 [==============================] - 13s 534ms/step - accuracy: 0.9873 - student_loss: 0.2275 - distillation_loss: 0.0462 - val_accuracy: 0.8712 - val_student_loss: 0.5662 - val_distillation_loss: 0.0000e+00\n",
            "Epoch 3/5\n",
            "25/25 [==============================] - 14s 522ms/step - accuracy: 0.9822 - student_loss: 0.2221 - distillation_loss: 0.0413 - val_accuracy: 0.8939 - val_student_loss: 0.8013 - val_distillation_loss: 0.0000e+00\n",
            "9/9 [==============================] - 5s 308ms/step - loss: 0.9609 - accuracy: 0.7879\n"
          ]
        }
      ],
      "source": [
        "#Knowledge Distillation을 사용해서 ResNet50(교사모델)로 DeiT모델 학습시키기\n",
        "deit_distiller.fit(train_flow_gen,callbacks=[callback], validation_data=valid_flow_gen, epochs=5)\n",
        "deit_distiller.student.compile( optimizer=tfa.optimizers.AdamW(weight_decay=WEIGHT_DECAY, learning_rate=lr_scaled),\n",
        "    metrics=[\"accuracy\"], loss=keras.losses.CategoricalCrossentropy(\n",
        "        from_logits=True, label_smoothing=0.1\n",
        "    ))\n",
        "deit_distiller.student.evaluate(test_flow_gen)\n",
        "deit_distiller.student.save_weights('/content/drive/MyDrive/Colab Notebooks/deit39.h5')"
      ],
      "id": "0wyPG_H4DaZ3"
    },
    {
      "cell_type": "code",
      "execution_count": null,
      "metadata": {
        "id": "mI7dB8zmA3za"
      },
      "outputs": [],
      "source": [
        "#가장학습이 잘된 가중치 불러오기\n",
        "deit_tiny.load_weights('/content/drive/MyDrive/Colab Notebooks/deit1.h5')"
      ],
      "id": "mI7dB8zmA3za"
    },
    {
      "cell_type": "code",
      "execution_count": null,
      "metadata": {
        "colab": {
          "base_uri": "https://localhost:8080/"
        },
        "id": "xVFxxtwNCUfv",
        "outputId": "be519fde-ad98-4308-d11b-2fe11041b89f"
      },
      "outputs": [
        {
          "name": "stdout",
          "output_type": "stream",
          "text": [
            "9/9 [==============================] - 96s 12s/step - loss: 0.3213 - accuracy: 0.9091\n"
          ]
        },
        {
          "data": {
            "text/plain": [
              "[0.32133713364601135, 0.9090909361839294]"
            ]
          },
          "execution_count": 47,
          "metadata": {},
          "output_type": "execute_result"
        }
      ],
      "source": [
        "#교사모델(ResNet50)의 정확도\n",
        "deit_distiller.teacher.evaluate(test_flow_gen)"
      ],
      "id": "xVFxxtwNCUfv"
    },
    {
      "cell_type": "code",
      "execution_count": null,
      "metadata": {
        "colab": {
          "base_uri": "https://localhost:8080/"
        },
        "id": "4O4UisxI-ThE",
        "outputId": "7f69ca2b-92c6-479c-8a5b-2fe2f6592678"
      },
      "outputs": [
        {
          "name": "stdout",
          "output_type": "stream",
          "text": [
            "9/9 [==============================] - 3s 302ms/step - loss: 0.5631 - accuracy: 0.8485\n"
          ]
        },
        {
          "data": {
            "text/plain": [
              "[0.5631250739097595, 0.8484848737716675]"
            ]
          },
          "execution_count": 65,
          "metadata": {},
          "output_type": "execute_result"
        }
      ],
      "source": [
        "#학습이 가장좋은 가중치에 정확도\n",
        "deit_distiller.student.evaluate(test_flow_gen)"
      ],
      "id": "4O4UisxI-ThE"
    },
    {
      "cell_type": "code",
      "source": [
        "#이미지 프레임으로 잘라서 모델에 넣을꺼 전처리\n",
        "from tensorflow.keras.preprocessing.image import ImageDataGenerator\n",
        "detect = ImageDataGenerator(rescale=1/255.)\n",
        "detect_final = detect.flow_from_directory(directory='/content/drive/MyDrive/1',\n",
        "                                            target_size=(224, 224),\n",
        "                                            class_mode='input',\n",
        "                                            shuffle=False)"
      ],
      "metadata": {
        "colab": {
          "base_uri": "https://localhost:8080/"
        },
        "id": "9WFFJq3B2JZD",
        "outputId": "fc811db9-2d36-4c39-9ff1-b9d63cd18d37"
      },
      "id": "9WFFJq3B2JZD",
      "execution_count": null,
      "outputs": [
        {
          "output_type": "stream",
          "name": "stdout",
          "text": [
            "Found 13 images belonging to 2 classes.\n"
          ]
        }
      ]
    },
    {
      "cell_type": "code",
      "source": [
        "#결과 0,1로 나누는 코드\n",
        "import numpy as np\n",
        "prediction = deit_tiny_distilled.predict(detect_final)\n",
        "prediction = np.argmax(prediction, axis=1)"
      ],
      "metadata": {
        "colab": {
          "base_uri": "https://localhost:8080/"
        },
        "id": "a968E1JJ3tME",
        "outputId": "f7808694-55ee-4a00-f835-baeac16e673b"
      },
      "id": "a968E1JJ3tME",
      "execution_count": null,
      "outputs": [
        {
          "output_type": "stream",
          "name": "stdout",
          "text": [
            "1/1 [==============================] - 2s 2s/step\n"
          ]
        }
      ]
    },
    {
      "cell_type": "code",
      "source": [
        "#동영상을 이미지로 프레임별로 나눈거 리스트 형식으로 바꾸기\n",
        "import glob\n",
        "\n",
        "path = \"/content/drive/MyDrive/1/iz/*\"\n",
        "file_list = glob.glob(path)\n",
        "a = [file for file in file_list if file.endswith(\".jpg\")]\n",
        "a.sort()"
      ],
      "metadata": {
        "id": "5WNQE4jTspV5"
      },
      "id": "5WNQE4jTspV5",
      "execution_count": null,
      "outputs": []
    },
    {
      "cell_type": "code",
      "source": [
        "#이미지 포트홀인지 아닌지 분류하여 이미지 전처리하기\n",
        "from google.colab.patches import cv2_imshow\n",
        "import cv2 as cv\n",
        "count = 1\n",
        " \n",
        "# k -> a의 값\n",
        "# v -> prediction의 값\n",
        "for k,v in zip(a,prediction): \n",
        "    if v: # 1인경우\n",
        "      image = cv.imread(k, cv.IMREAD_UNCHANGED)\n",
        "      nTop = 10\n",
        "      nBottom = 10\n",
        "      nLeft = 10\n",
        "      nRight = 10\n",
        "      red =(0, 255, 255)\n",
        "      CONSTANT = cv.copyMakeBorder(image, nTop, nBottom, nLeft, nRight, \n",
        "      borderType=cv.BORDER_CONSTANT,value=red)\n",
        "      cv2.imwrite(k, CONSTANT)\n",
        "      new_name = \"\" + \"/content/drive/MyDrive/1/iz/result/\"+ str(count) + \".jpg\" \n",
        "      cv2.imwrite(new_name, image)\n",
        "      count = count+1\n",
        "    else: # 0인경우\n",
        "      image = cv2.imread(k, cv2.IMREAD_UNCHANGED)\n",
        "      nTop = 10\n",
        "      nBottom = 10\n",
        "      nLeft = 10\n",
        "      nRight = 10\n",
        "      red =(193, 105, 101)\n",
        "      CONSTANT = cv.copyMakeBorder(image, nTop, nBottom, nLeft, nRight, \n",
        "      borderType=cv.BORDER_CONSTANT,value=red)\n",
        "      cv2.imwrite(k, CONSTANT)"
      ],
      "metadata": {
        "id": "rIQORfNsNeiA"
      },
      "id": "rIQORfNsNeiA",
      "execution_count": null,
      "outputs": []
    },
    {
      "cell_type": "code",
      "execution_count": null,
      "metadata": {
        "colab": {
          "base_uri": "https://localhost:8080/",
          "height": 287
        },
        "id": "KAeHMwO-lmj_",
        "outputId": "ba0474d8-c8cb-41da-89fb-f5717cf873e4"
      },
      "outputs": [
        {
          "data": {
            "text/plain": [
              "<matplotlib.image.AxesImage at 0x7f4bee421e10>"
            ]
          },
          "execution_count": 25,
          "metadata": {},
          "output_type": "execute_result"
        },
        {
          "data": {
            "image/png": "[encoded data removed]",
            "text/plain": [
              "<Figure size 432x288 with 1 Axes>"
            ]
          },
          "metadata": {},
          "output_type": "display_data"
        }
      ],
      "source": [
        "plt.imshow(img)"
      ],
      "id": "KAeHMwO-lmj_"
    },
    {
      "cell_type": "code",
      "execution_count": null,
      "metadata": {
        "colab": {
          "base_uri": "https://localhost:8080/"
        },
        "id": "ka6S1MZVpqZy",
        "outputId": "d2fef677-1dc1-49b6-e031-bfd3298de2a8"
      },
      "outputs": [
        {
          "name": "stdout",
          "output_type": "stream",
          "text": [
            "9/9 [==============================] - 4s 310ms/step\n"
          ]
        }
      ],
      "source": [
        "temp_output = deit_distiller.student.predict(test_flow_gen)  "
      ],
      "id": "ka6S1MZVpqZy"
    }
  ],
  "metadata": {
    "accelerator": "GPU",
    "colab": {
      "provenance": [],
      "include_colab_link": true
    },
    "gpuClass": "standard",
    "kernelspec": {
      "display_name": "Python 3 (ipykernel)",
      "language": "python",
      "name": "python3"
    },
    "language_info": {
      "codemirror_mode": {
        "name": "ipython",
        "version": 3
      },
      "file_extension": ".py",
      "mimetype": "text/x-python",
      "name": "python",
      "nbconvert_exporter": "python",
      "pygments_lexer": "ipython3",
      "version": "3.7.13"
    }
  },
  "nbformat": 4,
  "nbformat_minor": 5
}