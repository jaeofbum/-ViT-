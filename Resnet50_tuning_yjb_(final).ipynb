{
  "cells": [
    {
      "cell_type": "markdown",
      "metadata": {
        "id": "view-in-github",
        "colab_type": "text"
      },
      "source": [
        "<a href=\"https://colab.research.google.com/github/jaeofbum/-ViT-/blob/main/Resnet50_tuning_yjb_(final).ipynb\" target=\"_parent\"><img src=\"https://colab.research.google.com/assets/colab-badge.svg\" alt=\"Open In Colab\"/></a>"
      ]
    },
    {
      "cell_type": "code",
      "execution_count": null,
      "metadata": {
        "id": "f5cb79c2-e29c-4546-956e-4ea6e8290296"
      },
      "outputs": [],
      "source": [
        "import numpy as np\n",
        "import tensorflow as tf\n",
        "from tensorflow import keras\n",
        "from keras import layers, models\n",
        "from tensorflow.keras.utils import plot_model"
      ],
      "id": "f5cb79c2-e29c-4546-956e-4ea6e8290296"
    },
    {
      "cell_type": "code",
      "execution_count": null,
      "metadata": {
        "collapsed": true,
        "id": "926140c3-cd4d-47d3-af31-d40210ea97db",
        "colab": {
          "base_uri": "https://localhost:8080/"
        },
        "outputId": "cc445164-7443-42b2-86a7-6b79958dcba2"
      },
      "outputs": [
        {
          "output_type": "stream",
          "name": "stdout",
          "text": [
            "Downloading data from https://storage.googleapis.com/tensorflow/keras-applications/resnet/resnet50_weights_tf_dim_ordering_tf_kernels_notop.h5\n",
            "94773248/94765736 [==============================] - 0s 0us/step\n",
            "94781440/94765736 [==============================] - 0s 0us/step\n"
          ]
        }
      ],
      "source": [
        "#ResNet50 불러오기\n",
        "base_model = keras.applications.resnet.ResNet50(\n",
        "        weights= 'imagenet',\n",
        "        include_top=False)"
      ],
      "id": "926140c3-cd4d-47d3-af31-d40210ea97db"
    },
    {
      "cell_type": "code",
      "execution_count": null,
      "metadata": {
        "id": "2c431f8d-78a9-4f63-942a-ba5cdc05e92a"
      },
      "outputs": [],
      "source": [
        "#ResNet50 동결시키기\n",
        "base_model.trainable = False"
      ],
      "id": "2c431f8d-78a9-4f63-942a-ba5cdc05e92a"
    },
    {
      "cell_type": "code",
      "execution_count": null,
      "metadata": {
        "id": "c7a2571c-76e3-4fd9-81cd-824feb6747ae"
      },
      "outputs": [],
      "source": [
        "#ResNet50 모델에 input size 설정 및 계층 추가\n",
        "inputs = keras.Input(shape=(224, 224, 3))\n",
        "# We make sure that the base_model is running in inference mode here,\n",
        "# by passing `training=False`. This is important for fine-tuning, as you will\n",
        "# learn in a few paragraphs.\n",
        "x = base_model(inputs, training=False)\n",
        "# Convert features of shape `base_model.output_shape[1:]` to vectors\n",
        "x = keras.layers.GlobalAveragePooling2D()(x)\n",
        "# A Dense classifier with a single unit (binary classification)\n",
        "outputs = keras.layers.Dense(2)(x)\n",
        "model = keras.Model(inputs, outputs)"
      ],
      "id": "c7a2571c-76e3-4fd9-81cd-824feb6747ae"
    },
    {
      "cell_type": "code",
      "execution_count": null,
      "metadata": {
        "colab": {
          "base_uri": "https://localhost:8080/"
        },
        "id": "Bl7cDSrZtwbF",
        "outputId": "7b13793a-1d8c-4822-d3ef-50600f79d76a"
      },
      "outputs": [
        {
          "output_type": "stream",
          "name": "stdout",
          "text": [
            "Mounted at /content/drive\n",
            "Drive already mounted at /content/drive; to attempt to forcibly remount, call drive.mount(\"/content/drive\", force_remount=True).\n"
          ]
        }
      ],
      "source": [
        "from google.colab import drive\n",
        "drive.mount('/content/drive')"
      ],
      "id": "Bl7cDSrZtwbF"
    },
    {
      "cell_type": "code",
      "execution_count": null,
      "metadata": {
        "colab": {
          "base_uri": "https://localhost:8080/"
        },
        "id": "350b8114-3270-4f0b-aaa2-cfee8293a728",
        "outputId": "367ba3b0-0e90-4a9f-c903-53e9f657e2c6"
      },
      "outputs": [
        {
          "output_type": "stream",
          "name": "stdout",
          "text": [
            "Found 394 images belonging to 2 classes.\n",
            "Found 132 images belonging to 2 classes.\n",
            "Found 132 images belonging to 2 classes.\n",
            "Found 394 images belonging to 2 classes.\n",
            "Found 132 images belonging to 2 classes.\n",
            "Found 132 images belonging to 2 classes.\n"
          ]
        }
      ],
      "source": [
        "#train,valid,test 데이터셋 불러오기\n",
        "from tensorflow.keras.preprocessing.image import ImageDataGenerator\n",
        "\n",
        "# train_gen = ImageDataGenerator(horizontal_flip=True, rescale=1/255,rotation_range=10,width_shift_range=0.1, height_shift_range=0.1,shear_range=0.1,zoom_range=0.1)\n",
        "train_gen = ImageDataGenerator(rescale=1/255.)\n",
        "# Test ImageDataGenerator\n",
        "test_gen = ImageDataGenerator(rescale=1/255.)\n",
        "valid_gen = ImageDataGenerator(rescale=1/255.)\n",
        "\n",
        "train_flow_gen = train_gen.flow_from_directory(directory='/content/drive/MyDrive/Colab Notebooks/classification/train',\n",
        "                                              target_size=(224, 224),  \n",
        "                                              class_mode='categorical',\n",
        "                                              batch_size=16,\n",
        "                                              shuffle=True)\n",
        "valid_flow_gen = test_gen.flow_from_directory(directory='/content/drive/MyDrive/Colab Notebooks/classification/val',\n",
        "                                            target_size=(224, 224), \n",
        "                                            class_mode='categorical',\n",
        "                                            batch_size=16,\n",
        "                                            shuffle=False)\n",
        "test_flow_gen = test_gen.flow_from_directory(directory='/content/drive/MyDrive/Colab Notebooks/classification/test',\n",
        "                                            target_size=(224, 224), \n",
        "                                            class_mode='categorical',\n",
        "                                            batch_size=16,\n",
        "                                            shuffle=False)"
      ],
      "id": "350b8114-3270-4f0b-aaa2-cfee8293a728"
    },
    {
      "cell_type": "code",
      "source": [
        "model.summary()"
      ],
      "metadata": {
        "colab": {
          "base_uri": "https://localhost:8080/"
        },
        "id": "ec15_swK2mnA",
        "outputId": "7fd79888-194d-437b-d682-2ad0f6713981"
      },
      "id": "ec15_swK2mnA",
      "execution_count": null,
      "outputs": [
        {
          "output_type": "stream",
          "name": "stdout",
          "text": [
            "Model: \"model\"\n",
            "_________________________________________________________________\n",
            " Layer (type)                Output Shape              Param #   \n",
            "=================================================================\n",
            " input_2 (InputLayer)        [(None, 224, 224, 3)]     0         \n",
            "                                                                 \n",
            " resnet50 (Functional)       (None, None, None, 2048)  23587712  \n",
            "                                                                 \n",
            " global_average_pooling2d (G  (None, 2048)             0         \n",
            " lobalAveragePooling2D)                                          \n",
            "                                                                 \n",
            " dense (Dense)               (None, 2)                 4098      \n",
            "                                                                 \n",
            "=================================================================\n",
            "Total params: 23,591,810\n",
            "Trainable params: 4,098\n",
            "Non-trainable params: 23,587,712\n",
            "_________________________________________________________________\n",
            "Model: \"model_1\"\n",
            "_________________________________________________________________\n",
            " Layer (type)                Output Shape              Param #   \n",
            "=================================================================\n",
            " input_4 (InputLayer)        [(None, 224, 224, 3)]     0         \n",
            "                                                                 \n",
            " resnet50 (Functional)       (None, None, None, 2048)  23587712  \n",
            "                                                                 \n",
            " global_average_pooling2d_1   (None, 2048)             0         \n",
            " (GlobalAveragePooling2D)                                        \n",
            "                                                                 \n",
            " dense_1 (Dense)             (None, 2)                 4098      \n",
            "                                                                 \n",
            "=================================================================\n",
            "Total params: 23,591,810\n",
            "Trainable params: 4,098\n",
            "Non-trainable params: 23,587,712\n",
            "_________________________________________________________________\n"
          ]
        }
      ]
    },
    {
      "cell_type": "code",
      "execution_count": null,
      "metadata": {
        "colab": {
          "base_uri": "https://localhost:8080/"
        },
        "id": "qP5OARHINW4T",
        "outputId": "dfa3dca8-1edc-4ee0-804f-fa60220e753a"
      },
      "outputs": [
        {
          "name": "stdout",
          "output_type": "stream",
          "text": [
            "9/9 [==============================] - 3s 289ms/step - loss: 0.3213 - accuracy: 0.9091\n"
          ]
        },
        {
          "data": {
            "text/plain": [
              "[0.32133713364601135, 0.9090909361839294]"
            ]
          },
          "execution_count": 13,
          "metadata": {},
          "output_type": "execute_result"
        }
      ],
      "source": [
        "model.evaluate(test_flow_gen)"
      ],
      "id": "qP5OARHINW4T"
    },
    {
      "cell_type": "code",
      "source": [
        "#resnet50을 제외한 부분을 미리 학습시키기\n",
        "model.compile(\n",
        "    optimizer=tf.keras.optimizers.Adam(),\n",
        "    metrics=[\"accuracy\"],\n",
        "    loss=keras.losses.CategoricalCrossentropy(\n",
        "        from_logits=True))\n",
        "model.fit(train_flow_gen, epochs=20 ,validation_data=valid_flow_gen)  "
      ],
      "metadata": {
        "colab": {
          "base_uri": "https://localhost:8080/"
        },
        "id": "RwgddhHK2YHz",
        "outputId": "f8750ba6-9521-4990-fc31-c7514843bd06"
      },
      "id": "RwgddhHK2YHz",
      "execution_count": null,
      "outputs": [
        {
          "output_type": "stream",
          "name": "stdout",
          "text": [
            "Epoch 1/20\n",
            "25/25 [==============================] - 235s 9s/step - loss: 0.6863 - accuracy: 0.5660 - val_loss: 0.6775 - val_accuracy: 0.6515\n",
            "Epoch 2/20\n",
            "25/25 [==============================] - 11s 423ms/step - loss: 0.6789 - accuracy: 0.5736 - val_loss: 0.6657 - val_accuracy: 0.6667\n",
            "Epoch 3/20\n",
            "25/25 [==============================] - 11s 426ms/step - loss: 0.6668 - accuracy: 0.6142 - val_loss: 0.6533 - val_accuracy: 0.7273\n",
            "Epoch 4/20\n",
            "25/25 [==============================] - 11s 435ms/step - loss: 0.6638 - accuracy: 0.5660 - val_loss: 0.6455 - val_accuracy: 0.5909\n",
            "Epoch 5/20\n",
            "25/25 [==============================] - 11s 419ms/step - loss: 0.6532 - accuracy: 0.6041 - val_loss: 0.6309 - val_accuracy: 0.7348\n",
            "Epoch 6/20\n",
            "25/25 [==============================] - 11s 434ms/step - loss: 0.6381 - accuracy: 0.6447 - val_loss: 0.6209 - val_accuracy: 0.7955\n",
            "Epoch 7/20\n",
            "25/25 [==============================] - 11s 430ms/step - loss: 0.6360 - accuracy: 0.6142 - val_loss: 0.6231 - val_accuracy: 0.5909\n",
            "Epoch 8/20\n",
            "25/25 [==============================] - 11s 431ms/step - loss: 0.6229 - accuracy: 0.7005 - val_loss: 0.6027 - val_accuracy: 0.8182\n",
            "Epoch 9/20\n",
            "25/25 [==============================] - 11s 430ms/step - loss: 0.6083 - accuracy: 0.7056 - val_loss: 0.6040 - val_accuracy: 0.6515\n",
            "Epoch 10/20\n",
            "25/25 [==============================] - 11s 439ms/step - loss: 0.6094 - accuracy: 0.6751 - val_loss: 0.6215 - val_accuracy: 0.5530\n",
            "Epoch 11/20\n",
            "25/25 [==============================] - 11s 433ms/step - loss: 0.5987 - accuracy: 0.6878 - val_loss: 0.5915 - val_accuracy: 0.6515\n",
            "Epoch 12/20\n",
            "25/25 [==============================] - 11s 435ms/step - loss: 0.5905 - accuracy: 0.7513 - val_loss: 0.5704 - val_accuracy: 0.8409\n",
            "Epoch 13/20\n",
            "25/25 [==============================] - 11s 431ms/step - loss: 0.5892 - accuracy: 0.6929 - val_loss: 0.5945 - val_accuracy: 0.6136\n",
            "Epoch 14/20\n",
            "25/25 [==============================] - 11s 430ms/step - loss: 0.5949 - accuracy: 0.6751 - val_loss: 0.5697 - val_accuracy: 0.7121\n",
            "Epoch 15/20\n",
            "25/25 [==============================] - 11s 435ms/step - loss: 0.5781 - accuracy: 0.7360 - val_loss: 0.5701 - val_accuracy: 0.6742\n",
            "Epoch 16/20\n",
            "25/25 [==============================] - 11s 439ms/step - loss: 0.5756 - accuracy: 0.7183 - val_loss: 0.5670 - val_accuracy: 0.6667\n",
            "Epoch 17/20\n",
            "25/25 [==============================] - 11s 410ms/step - loss: 0.5679 - accuracy: 0.7386 - val_loss: 0.5426 - val_accuracy: 0.7803\n",
            "Epoch 18/20\n",
            "25/25 [==============================] - 11s 428ms/step - loss: 0.5566 - accuracy: 0.7690 - val_loss: 0.5346 - val_accuracy: 0.8258\n",
            "Epoch 19/20\n",
            "25/25 [==============================] - 11s 427ms/step - loss: 0.5521 - accuracy: 0.7868 - val_loss: 0.5324 - val_accuracy: 0.7803\n",
            "Epoch 20/20\n",
            "25/25 [==============================] - 11s 432ms/step - loss: 0.5471 - accuracy: 0.7665 - val_loss: 0.5594 - val_accuracy: 0.6591\n"
          ]
        },
        {
          "output_type": "execute_result",
          "data": {
            "text/plain": [
              "<keras.callbacks.History at 0x7faa36471390>"
            ]
          },
          "metadata": {},
          "execution_count": 8
        },
        {
          "output_type": "stream",
          "name": "stdout",
          "text": [
            "Epoch 1/20\n",
            "25/25 [==============================] - 14s 478ms/step - loss: 0.7591 - accuracy: 0.4721 - val_loss: 0.6962 - val_accuracy: 0.5000\n",
            "Epoch 2/20\n",
            "25/25 [==============================] - 11s 425ms/step - loss: 0.6945 - accuracy: 0.5254 - val_loss: 0.6743 - val_accuracy: 0.6667\n",
            "Epoch 3/20\n",
            "25/25 [==============================] - 10s 428ms/step - loss: 0.6859 - accuracy: 0.5330 - val_loss: 0.6749 - val_accuracy: 0.5076\n",
            "Epoch 4/20\n",
            "25/25 [==============================] - 11s 411ms/step - loss: 0.6783 - accuracy: 0.5635 - val_loss: 0.6570 - val_accuracy: 0.6136\n",
            "Epoch 5/20\n",
            "25/25 [==============================] - 11s 428ms/step - loss: 0.6716 - accuracy: 0.5711 - val_loss: 0.6462 - val_accuracy: 0.6515\n",
            "Epoch 6/20\n",
            "25/25 [==============================] - 11s 427ms/step - loss: 0.6520 - accuracy: 0.6320 - val_loss: 0.6358 - val_accuracy: 0.7273\n",
            "Epoch 7/20\n",
            "25/25 [==============================] - 11s 428ms/step - loss: 0.6491 - accuracy: 0.6193 - val_loss: 0.6260 - val_accuracy: 0.8409\n",
            "Epoch 8/20\n",
            "25/25 [==============================] - 11s 433ms/step - loss: 0.6426 - accuracy: 0.6371 - val_loss: 0.6205 - val_accuracy: 0.6970\n",
            "Epoch 9/20\n",
            "25/25 [==============================] - 11s 435ms/step - loss: 0.6229 - accuracy: 0.6574 - val_loss: 0.6274 - val_accuracy: 0.5758\n",
            "Epoch 10/20\n",
            "25/25 [==============================] - 11s 428ms/step - loss: 0.6340 - accuracy: 0.6091 - val_loss: 0.6165 - val_accuracy: 0.6136\n",
            "Epoch 11/20\n",
            "25/25 [==============================] - 11s 423ms/step - loss: 0.6310 - accuracy: 0.6193 - val_loss: 0.5974 - val_accuracy: 0.7121\n",
            "Epoch 12/20\n",
            "25/25 [==============================] - 11s 429ms/step - loss: 0.6052 - accuracy: 0.7563 - val_loss: 0.5860 - val_accuracy: 0.8106\n",
            "Epoch 13/20\n",
            "25/25 [==============================] - 11s 428ms/step - loss: 0.6007 - accuracy: 0.7284 - val_loss: 0.5787 - val_accuracy: 0.8258\n",
            "Epoch 14/20\n",
            "25/25 [==============================] - 11s 430ms/step - loss: 0.6056 - accuracy: 0.6929 - val_loss: 0.6046 - val_accuracy: 0.6061\n",
            "Epoch 15/20\n",
            "25/25 [==============================] - 11s 430ms/step - loss: 0.5995 - accuracy: 0.7132 - val_loss: 0.5712 - val_accuracy: 0.7879\n",
            "Epoch 16/20\n",
            "25/25 [==============================] - 11s 430ms/step - loss: 0.5832 - accuracy: 0.7563 - val_loss: 0.5750 - val_accuracy: 0.7121\n",
            "Epoch 17/20\n",
            "25/25 [==============================] - 11s 428ms/step - loss: 0.5742 - accuracy: 0.7640 - val_loss: 0.5575 - val_accuracy: 0.7727\n",
            "Epoch 18/20\n",
            "25/25 [==============================] - 11s 432ms/step - loss: 0.5726 - accuracy: 0.7665 - val_loss: 0.5539 - val_accuracy: 0.7424\n",
            "Epoch 19/20\n",
            "25/25 [==============================] - 10s 425ms/step - loss: 0.5776 - accuracy: 0.7234 - val_loss: 0.5478 - val_accuracy: 0.7727\n",
            "Epoch 20/20\n",
            "25/25 [==============================] - 11s 434ms/step - loss: 0.5627 - accuracy: 0.7817 - val_loss: 0.5375 - val_accuracy: 0.8712\n"
          ]
        },
        {
          "output_type": "execute_result",
          "data": {
            "text/plain": [
              "<keras.callbacks.History at 0x7faa27330390>"
            ]
          },
          "metadata": {},
          "execution_count": 18
        }
      ]
    },
    {
      "cell_type": "code",
      "source": [
        "#resnet50 동결풀기\n",
        "model.trainable = True\n",
        "#early stopping 넣기\n",
        "callback=tf.keras.callbacks.EarlyStopping(\n",
        "    monitor=\"val_loss\",\n",
        "    patience=2,\n",
        "    mode=\"auto\",\n",
        "    restore_best_weights=True,\n",
        ")\n",
        "model.compile(optimizer=tf.keras.optimizers.Adam(1e-5),\n",
        "    metrics=[\"accuracy\"],\n",
        "    loss=keras.losses.CategoricalCrossentropy(from_logits=True))\n",
        "model.fit(train_flow_gen, epochs=10 ,callbacks=[callback],validation_data=valid_flow_gen)"
      ],
      "metadata": {
        "colab": {
          "base_uri": "https://localhost:8080/"
        },
        "id": "1XCME-j63vEg",
        "outputId": "76b88575-9e31-4aaa-a586-4c52a1ca9961"
      },
      "id": "1XCME-j63vEg",
      "execution_count": null,
      "outputs": [
        {
          "output_type": "stream",
          "name": "stdout",
          "text": [
            "Epoch 1/10\n",
            "25/25 [==============================] - 17s 489ms/step - loss: 0.1454 - accuracy: 0.9391 - val_loss: 0.1531 - val_accuracy: 0.9318\n",
            "Epoch 2/10\n",
            "25/25 [==============================] - 11s 443ms/step - loss: 0.1449 - accuracy: 0.9391 - val_loss: 0.2792 - val_accuracy: 0.8864\n",
            "Epoch 3/10\n",
            "25/25 [==============================] - 11s 406ms/step - loss: 0.0562 - accuracy: 0.9898 - val_loss: 0.2805 - val_accuracy: 0.8939\n"
          ]
        },
        {
          "output_type": "execute_result",
          "data": {
            "text/plain": [
              "<keras.callbacks.History at 0x7faa24b9e050>"
            ]
          },
          "metadata": {},
          "execution_count": 27
        }
      ]
    },
    {
      "cell_type": "code",
      "source": [
        "#모델 평가하기\n",
        "model.evaluate(test_flow_gen)"
      ],
      "metadata": {
        "colab": {
          "base_uri": "https://localhost:8080/"
        },
        "id": "zABVv-We-tFV",
        "outputId": "dea4ad5f-0808-4046-f47b-fac227e96a03"
      },
      "id": "zABVv-We-tFV",
      "execution_count": null,
      "outputs": [
        {
          "output_type": "stream",
          "name": "stdout",
          "text": [
            "9/9 [==============================] - 2s 271ms/step - loss: 0.2968 - accuracy: 0.8939\n"
          ]
        },
        {
          "output_type": "execute_result",
          "data": {
            "text/plain": [
              "[0.2967815399169922, 0.8939393758773804]"
            ]
          },
          "metadata": {},
          "execution_count": 28
        }
      ]
    },
    {
      "cell_type": "code",
      "source": [
        "#모델 평가하기\n",
        "model.evaluate(test_flow_gen)"
      ],
      "metadata": {
        "colab": {
          "base_uri": "https://localhost:8080/"
        },
        "id": "9WitNZ5u9qNz",
        "outputId": "e6786b3c-d027-4587-fca4-3170dc82acc7"
      },
      "id": "9WitNZ5u9qNz",
      "execution_count": null,
      "outputs": [
        {
          "output_type": "stream",
          "name": "stdout",
          "text": [
            "9/9 [==============================] - 2s 268ms/step - loss: 0.2376 - accuracy: 0.9167\n"
          ]
        },
        {
          "output_type": "execute_result",
          "data": {
            "text/plain": [
              "[0.2375577688217163, 0.9166666865348816]"
            ]
          },
          "metadata": {},
          "execution_count": 26
        }
      ]
    },
    {
      "cell_type": "code",
      "source": [
        "model.summary()"
      ],
      "metadata": {
        "colab": {
          "base_uri": "https://localhost:8080/"
        },
        "id": "zomrA_CL_WiJ",
        "outputId": "da630266-0acf-4715-9016-70e0b9486a9b"
      },
      "id": "zomrA_CL_WiJ",
      "execution_count": null,
      "outputs": [
        {
          "output_type": "stream",
          "name": "stdout",
          "text": [
            "Model: \"model_1\"\n",
            "_________________________________________________________________\n",
            " Layer (type)                Output Shape              Param #   \n",
            "=================================================================\n",
            " input_4 (InputLayer)        [(None, 224, 224, 3)]     0         \n",
            "                                                                 \n",
            " resnet50 (Functional)       (None, None, None, 2048)  23587712  \n",
            "                                                                 \n",
            " global_average_pooling2d_1   (None, 2048)             0         \n",
            " (GlobalAveragePooling2D)                                        \n",
            "                                                                 \n",
            " dense_1 (Dense)             (None, 2)                 4098      \n",
            "                                                                 \n",
            "=================================================================\n",
            "Total params: 23,591,810\n",
            "Trainable params: 23,538,690\n",
            "Non-trainable params: 53,120\n",
            "_________________________________________________________________\n"
          ]
        }
      ]
    },
    {
      "cell_type": "code",
      "execution_count": null,
      "metadata": {
        "id": "3bbed5c7-b5a7-4398-90a4-3b25db07cb3b"
      },
      "outputs": [],
      "source": [
        "#모델 저장하기\n",
        "filepath = '/content/drive/MyDrive/Colab Notebooks/resnet50 yjb test.h5'\n",
        "tf.keras.models.save_model(\n",
        "    model, filepath, overwrite=True, include_optimizer=True, save_format=None,\n",
        "    signatures=None, options=None, save_traces=True\n",
        ")"
      ],
      "id": "3bbed5c7-b5a7-4398-90a4-3b25db07cb3b"
    }
  ],
  "metadata": {
    "accelerator": "GPU",
    "colab": {
      "machine_shape": "hm",
      "provenance": [],
      "include_colab_link": true
    },
    "kernelspec": {
      "display_name": "Python 3 (ipykernel)",
      "language": "python",
      "name": "python3"
    },
    "language_info": {
      "codemirror_mode": {
        "name": "ipython",
        "version": 3
      },
      "file_extension": ".py",
      "mimetype": "text/x-python",
      "name": "python",
      "nbconvert_exporter": "python",
      "pygments_lexer": "ipython3",
      "version": "3.7.13"
    }
  },
  "nbformat": 4,
  "nbformat_minor": 5
}